{
  "nbformat": 4,
  "nbformat_minor": 0,
  "metadata": {
    "colab": {
      "name": "FraudDetection.ipynb",
      "version": "0.3.2",
      "provenance": []
    },
    "kernelspec": {
      "display_name": "Python 3",
      "language": "python",
      "name": "python3"
    },
    "accelerator": "GPU"
  },
  "cells": [
    {
      "metadata": {
        "id": "wzqDjkUaCymk",
        "colab_type": "text"
      },
      "cell_type": "markdown",
      "source": [
        "### Loading the required libraries"
      ]
    },
    {
      "metadata": {
        "id": "92Aa6zbDCymr",
        "colab_type": "code",
        "outputId": "b6b4f889-023a-41b2-aeda-6aa989cfe1a9",
        "colab": {
          "base_uri": "https://localhost:8080/",
          "height": 35
        }
      },
      "cell_type": "code",
      "source": [
        "from keras.models import Sequential\n",
        "from keras.layers import Dense, Dropout\n",
        "#dense fully connected layer# dropout is for zero noise layers\n",
        "import pandas as pd\n",
        "import numpy as np\n",
        "\n",
        "from pylab import rcParams\n",
        "\n",
        "import matplotlib.pyplot as plt\n",
        "\n",
        "%matplotlib inline"
      ],
      "execution_count": 0,
      "outputs": [
        {
          "output_type": "stream",
          "text": [
            "Using TensorFlow backend.\n"
          ],
          "name": "stderr"
        }
      ]
    },
    {
      "metadata": {
        "id": "8mcJTVCWCym8",
        "colab_type": "code",
        "colab": {}
      },
      "cell_type": "code",
      "source": [
        "RANDOM_SEED =7124\n",
        "LABELS = [\"Normal\", \"Fraud\"]"
      ],
      "execution_count": 0,
      "outputs": []
    },
    {
      "metadata": {
        "id": "5QwP9IE9IEss",
        "colab_type": "code",
        "outputId": "d51ce951-e7f1-42aa-cac3-3878bca673db",
        "colab": {
          "base_uri": "https://localhost:8080/",
          "height": 83
        }
      },
      "cell_type": "code",
      "source": [
        "!wget https://s3.ap-south-1.amazonaws.com/elasticbeanstalk-ap-south-1-081954957030/Fraud_data_amtstd.csv"
      ],
      "execution_count": 0,
      "outputs": [
        {
          "output_type": "stream",
          "text": [
            "\n",
            "Redirecting output to ‘wget-log’.\n"
          ],
          "name": "stdout"
        }
      ]
    },
    {
      "metadata": {
        "id": "5rGSJOaQCynF",
        "colab_type": "code",
        "outputId": "830cc6a3-b3eb-4809-fa89-ac0cdfaa799b",
        "colab": {}
      },
      "cell_type": "code",
      "source": [
        "# Reading the data and lookng at the structure of the data. This data has 30 attributes and 1 lakh records\n",
        "data = pd.read_csv(\"Fraud_data_amtstd.csv\")\n",
        "data.shape"
      ],
      "execution_count": 0,
      "outputs": [
        {
          "output_type": "execute_result",
          "data": {
            "text/plain": [
              "(100000, 30)"
            ]
          },
          "metadata": {
            "tags": []
          },
          "execution_count": 6
        }
      ]
    },
    {
      "metadata": {
        "id": "zXEoZ5VCCynS",
        "colab_type": "code",
        "outputId": "69a3a3db-aca4-4347-8fa0-c9d0e70babdb",
        "colab": {}
      },
      "cell_type": "code",
      "source": [
        "#PLotting the frequencies of fraud and non-fraud transactions in the data\n",
        "count_classes = pd.value_counts(data['Class'], sort = True)\n",
        "print(count_classes)\n",
        "\n",
        "#Drawing a barplot\n",
        "count_classes.plot(kind = 'bar', rot=0)\n",
        "\n",
        "#Giving titles and labels to the plot\n",
        "plt.title(\"Transaction class distribution\")\n",
        "plt.xticks(range(2), LABELS)\n",
        "plt.xlabel(\"Class\")\n",
        "plt.ylabel(\"Frequency\");"
      ],
      "execution_count": 0,
      "outputs": [
        {
          "output_type": "stream",
          "text": [
            "0    99508\n",
            "1      492\n",
            "Name: Class, dtype: int64\n"
          ],
          "name": "stdout"
        },
        {
          "output_type": "display_data",
          "data": {
            "image/png": "[encoded data removed]",
            "text/plain": [
              "<matplotlib.figure.Figure at 0x29987460550>"
            ]
          },
          "metadata": {
            "tags": []
          }
        }
      ]
    },
    {
      "metadata": {
        "id": "FBhheFdSCyna",
        "colab_type": "code",
        "outputId": "8548eca2-fcc5-4548-a8a0-13ca566dfd1f",
        "colab": {}
      },
      "cell_type": "code",
      "source": [
        "#Looking at a sample of records\n",
        "data.head(6)"
      ],
      "execution_count": 0,
      "outputs": [
        {
          "output_type": "execute_result",
          "data": {
            "text/html": [
              "<div>\n",
              "<style scoped>\n",
              "    .dataframe tbody tr th:only-of-type {\n",
              "        vertical-align: middle;\n",
              "    }\n",
              "\n",
              "    .dataframe tbody tr th {\n",
              "        vertical-align: top;\n",
              "    }\n",
              "\n",
              "    .dataframe thead th {\n",
              "        text-align: right;\n",
              "    }\n",
              "</style>\n",
              "<table border=\"1\" class=\"dataframe\">\n",
              "  <thead>\n",
              "    <tr style=\"text-align: right;\">\n",
              "      <th></th>\n",
              "      <th>V1</th>\n",
              "      <th>V2</th>\n",
              "      <th>V3</th>\n",
              "      <th>V4</th>\n",
              "      <th>V5</th>\n",
              "      <th>V6</th>\n",
              "      <th>V7</th>\n",
              "      <th>V8</th>\n",
              "      <th>V9</th>\n",
              "      <th>V10</th>\n",
              "      <th>...</th>\n",
              "      <th>V21</th>\n",
              "      <th>V22</th>\n",
              "      <th>V23</th>\n",
              "      <th>V24</th>\n",
              "      <th>V25</th>\n",
              "      <th>V26</th>\n",
              "      <th>V27</th>\n",
              "      <th>V28</th>\n",
              "      <th>Amount</th>\n",
              "      <th>Class</th>\n",
              "    </tr>\n",
              "  </thead>\n",
              "  <tbody>\n",
              "    <tr>\n",
              "      <th>0</th>\n",
              "      <td>1.836500</td>\n",
              "      <td>-0.545419</td>\n",
              "      <td>-0.462979</td>\n",
              "      <td>0.537174</td>\n",
              "      <td>-0.426143</td>\n",
              "      <td>-0.100606</td>\n",
              "      <td>-0.584764</td>\n",
              "      <td>-0.103956</td>\n",
              "      <td>2.268429</td>\n",
              "      <td>-0.365185</td>\n",
              "      <td>...</td>\n",
              "      <td>0.085111</td>\n",
              "      <td>0.410736</td>\n",
              "      <td>0.137625</td>\n",
              "      <td>0.602906</td>\n",
              "      <td>-0.350260</td>\n",
              "      <td>0.464407</td>\n",
              "      <td>-0.070917</td>\n",
              "      <td>-0.030486</td>\n",
              "      <td>0.049882</td>\n",
              "      <td>0</td>\n",
              "    </tr>\n",
              "    <tr>\n",
              "      <th>1</th>\n",
              "      <td>-4.289880</td>\n",
              "      <td>-2.576061</td>\n",
              "      <td>-0.092256</td>\n",
              "      <td>1.976405</td>\n",
              "      <td>2.810033</td>\n",
              "      <td>-2.669128</td>\n",
              "      <td>-0.981883</td>\n",
              "      <td>-0.470310</td>\n",
              "      <td>-0.025692</td>\n",
              "      <td>0.099528</td>\n",
              "      <td>...</td>\n",
              "      <td>-0.473240</td>\n",
              "      <td>-0.307295</td>\n",
              "      <td>-2.789549</td>\n",
              "      <td>0.578976</td>\n",
              "      <td>-0.837979</td>\n",
              "      <td>0.372843</td>\n",
              "      <td>0.353451</td>\n",
              "      <td>-1.662202</td>\n",
              "      <td>-0.347171</td>\n",
              "      <td>0</td>\n",
              "    </tr>\n",
              "    <tr>\n",
              "      <th>2</th>\n",
              "      <td>1.131318</td>\n",
              "      <td>0.139818</td>\n",
              "      <td>0.586921</td>\n",
              "      <td>1.069291</td>\n",
              "      <td>-0.334908</td>\n",
              "      <td>-0.204938</td>\n",
              "      <td>-0.135526</td>\n",
              "      <td>0.043821</td>\n",
              "      <td>-0.121117</td>\n",
              "      <td>0.182139</td>\n",
              "      <td>...</td>\n",
              "      <td>-0.028126</td>\n",
              "      <td>-0.167062</td>\n",
              "      <td>-0.048054</td>\n",
              "      <td>-0.009912</td>\n",
              "      <td>0.417694</td>\n",
              "      <td>-0.479793</td>\n",
              "      <td>0.024360</td>\n",
              "      <td>0.023878</td>\n",
              "      <td>-0.208963</td>\n",
              "      <td>0</td>\n",
              "    </tr>\n",
              "    <tr>\n",
              "      <th>3</th>\n",
              "      <td>-0.866956</td>\n",
              "      <td>1.373947</td>\n",
              "      <td>1.948343</td>\n",
              "      <td>2.686750</td>\n",
              "      <td>-0.366790</td>\n",
              "      <td>0.568632</td>\n",
              "      <td>-0.278349</td>\n",
              "      <td>0.739536</td>\n",
              "      <td>-1.655955</td>\n",
              "      <td>0.708396</td>\n",
              "      <td>...</td>\n",
              "      <td>0.022719</td>\n",
              "      <td>-0.070619</td>\n",
              "      <td>-0.080307</td>\n",
              "      <td>0.000816</td>\n",
              "      <td>0.092167</td>\n",
              "      <td>0.159131</td>\n",
              "      <td>0.157940</td>\n",
              "      <td>-0.014370</td>\n",
              "      <td>-0.253595</td>\n",
              "      <td>0</td>\n",
              "    </tr>\n",
              "    <tr>\n",
              "      <th>4</th>\n",
              "      <td>-0.842670</td>\n",
              "      <td>1.401843</td>\n",
              "      <td>0.927235</td>\n",
              "      <td>1.070402</td>\n",
              "      <td>0.843883</td>\n",
              "      <td>0.467333</td>\n",
              "      <td>0.366716</td>\n",
              "      <td>0.616739</td>\n",
              "      <td>-1.586963</td>\n",
              "      <td>0.000041</td>\n",
              "      <td>...</td>\n",
              "      <td>0.036573</td>\n",
              "      <td>-0.182581</td>\n",
              "      <td>-0.226834</td>\n",
              "      <td>-1.029794</td>\n",
              "      <td>-0.118762</td>\n",
              "      <td>-0.228960</td>\n",
              "      <td>-0.024250</td>\n",
              "      <td>0.046547</td>\n",
              "      <td>-0.346230</td>\n",
              "      <td>0</td>\n",
              "    </tr>\n",
              "    <tr>\n",
              "      <th>5</th>\n",
              "      <td>1.178458</td>\n",
              "      <td>0.166055</td>\n",
              "      <td>-0.101567</td>\n",
              "      <td>0.369453</td>\n",
              "      <td>0.017198</td>\n",
              "      <td>-0.722891</td>\n",
              "      <td>0.396639</td>\n",
              "      <td>-0.187978</td>\n",
              "      <td>-0.483147</td>\n",
              "      <td>0.083094</td>\n",
              "      <td>...</td>\n",
              "      <td>-0.323048</td>\n",
              "      <td>-1.083814</td>\n",
              "      <td>0.049838</td>\n",
              "      <td>-0.002872</td>\n",
              "      <td>0.295810</td>\n",
              "      <td>0.135883</td>\n",
              "      <td>-0.074191</td>\n",
              "      <td>0.004364</td>\n",
              "      <td>-0.150527</td>\n",
              "      <td>0</td>\n",
              "    </tr>\n",
              "  </tbody>\n",
              "</table>\n",
              "<p>6 rows × 30 columns</p>\n",
              "</div>"
            ],
            "text/plain": [
              "         V1        V2        V3        V4        V5        V6        V7  \\\n",
              "0  1.836500 -0.545419 -0.462979  0.537174 -0.426143 -0.100606 -0.584764   \n",
              "1 -4.289880 -2.576061 -0.092256  1.976405  2.810033 -2.669128 -0.981883   \n",
              "2  1.131318  0.139818  0.586921  1.069291 -0.334908 -0.204938 -0.135526   \n",
              "3 -0.866956  1.373947  1.948343  2.686750 -0.366790  0.568632 -0.278349   \n",
              "4 -0.842670  1.401843  0.927235  1.070402  0.843883  0.467333  0.366716   \n",
              "5  1.178458  0.166055 -0.101567  0.369453  0.017198 -0.722891  0.396639   \n",
              "\n",
              "         V8        V9       V10  ...         V21       V22       V23  \\\n",
              "0 -0.103956  2.268429 -0.365185  ...    0.085111  0.410736  0.137625   \n",
              "1 -0.470310 -0.025692  0.099528  ...   -0.473240 -0.307295 -2.789549   \n",
              "2  0.043821 -0.121117  0.182139  ...   -0.028126 -0.167062 -0.048054   \n",
              "3  0.739536 -1.655955  0.708396  ...    0.022719 -0.070619 -0.080307   \n",
              "4  0.616739 -1.586963  0.000041  ...    0.036573 -0.182581 -0.226834   \n",
              "5 -0.187978 -0.483147  0.083094  ...   -0.323048 -1.083814  0.049838   \n",
              "\n",
              "        V24       V25       V26       V27       V28    Amount  Class  \n",
              "0  0.602906 -0.350260  0.464407 -0.070917 -0.030486  0.049882      0  \n",
              "1  0.578976 -0.837979  0.372843  0.353451 -1.662202 -0.347171      0  \n",
              "2 -0.009912  0.417694 -0.479793  0.024360  0.023878 -0.208963      0  \n",
              "3  0.000816  0.092167  0.159131  0.157940 -0.014370 -0.253595      0  \n",
              "4 -1.029794 -0.118762 -0.228960 -0.024250  0.046547 -0.346230      0  \n",
              "5 -0.002872  0.295810  0.135883 -0.074191  0.004364 -0.150527      0  \n",
              "\n",
              "[6 rows x 30 columns]"
            ]
          },
          "metadata": {
            "tags": []
          },
          "execution_count": 8
        }
      ]
    },
    {
      "metadata": {
        "id": "JOMFkUBuCynj",
        "colab_type": "code",
        "colab": {}
      },
      "cell_type": "code",
      "source": [
        "from sklearn.model_selection import train_test_split"
      ],
      "execution_count": 0,
      "outputs": []
    },
    {
      "metadata": {
        "id": "U4q67KtOCyno",
        "colab_type": "code",
        "colab": {}
      },
      "cell_type": "code",
      "source": [
        "#Converting data to array\n",
        "data = np.array(data)"
      ],
      "execution_count": 0,
      "outputs": []
    },
    {
      "metadata": {
        "id": "hPT7XPNWCynv",
        "colab_type": "code",
        "outputId": "c8cd32fe-2c80-4e3a-e1a0-0d6e1b8d5a58",
        "colab": {}
      },
      "cell_type": "code",
      "source": [
        "#Splitting the data into train and test and observing their dimensions\n",
        "train, test = train_test_split(data, test_size=0.2, random_state=RANDOM_SEED)\n",
        "\n",
        "print(train.shape)\n",
        "print(test.shape)"
      ],
      "execution_count": 0,
      "outputs": [
        {
          "output_type": "stream",
          "text": [
            "(80000, 30)\n",
            "(20000, 30)\n"
          ],
          "name": "stdout"
        }
      ]
    },
    {
      "metadata": {
        "id": "RdtOzrRICyoD",
        "colab_type": "code",
        "outputId": "3b3879a7-8c5d-406e-fd70-5586dc4f8e7b",
        "colab": {}
      },
      "cell_type": "code",
      "source": [
        "#Obtaining the fraud and non-fraud records in train\n",
        "print(np.unique(train[:,29], return_counts=True))\n",
        "print(np.unique(test[:,29], return_counts=True))"
      ],
      "execution_count": 0,
      "outputs": [
        {
          "output_type": "stream",
          "text": [
            "(array([0., 1.]), array([79591,   409], dtype=int64))\n",
            "(array([0., 1.]), array([19917,    83], dtype=int64))\n"
          ],
          "name": "stdout"
        }
      ]
    },
    {
      "metadata": {
        "id": "vPvF8X3zCyoO",
        "colab_type": "code",
        "outputId": "64d1501a-5cf9-4b8d-f771-f7cb884c7fe8",
        "colab": {}
      },
      "cell_type": "code",
      "source": [
        "#Now consider only the non-fraud records for training\n",
        "train_NF = train[train[:,-1] == 0]\n",
        "X_train_NF = train_NF[:,:-1]\n",
        "\n",
        "print(X_train_NF.shape)"
      ],
      "execution_count": 0,
      "outputs": [
        {
          "output_type": "stream",
          "text": [
            "(79591, 29)\n"
          ],
          "name": "stdout"
        }
      ]
    },
    {
      "metadata": {
        "id": "rvceqFdJCyoX",
        "colab_type": "code",
        "outputId": "a9ffa79a-d230-4fc7-a5fc-eae2b09822ec",
        "colab": {}
      },
      "cell_type": "code",
      "source": [
        "#Separating out the fraud records from the train \n",
        "train_F = train[train[:,-1] == 1]\n",
        "print(train_F.shape)"
      ],
      "execution_count": 0,
      "outputs": [
        {
          "output_type": "stream",
          "text": [
            "(409, 30)\n"
          ],
          "name": "stdout"
        }
      ]
    },
    {
      "metadata": {
        "id": "W1Y7YBc-Cyoj",
        "colab_type": "code",
        "outputId": "6bd3eb59-d313-4ce6-ca7d-b800bad77342",
        "colab": {}
      },
      "cell_type": "code",
      "source": [
        "#Adding/concatinating the fraud records from train data to the test\n",
        "test = np.concatenate((test, train_F),axis=0)\n",
        "print(test.shape)"
      ],
      "execution_count": 0,
      "outputs": [
        {
          "output_type": "stream",
          "text": [
            "(20409, 30)\n"
          ],
          "name": "stdout"
        }
      ]
    },
    {
      "metadata": {
        "id": "PB0yjYYxCyop",
        "colab_type": "code",
        "colab": {}
      },
      "cell_type": "code",
      "source": [
        "test, eval = train_test_split(test, test_size=0.2, random_state=RANDOM_SEED)"
      ],
      "execution_count": 0,
      "outputs": []
    },
    {
      "metadata": {
        "id": "T3DUz9dNCyou",
        "colab_type": "code",
        "outputId": "f62e6783-dbb3-4322-d44e-bed113882c3b",
        "colab": {}
      },
      "cell_type": "code",
      "source": [
        "print(test.shape)\n",
        "print(eval.shape)"
      ],
      "execution_count": 0,
      "outputs": [
        {
          "output_type": "stream",
          "text": [
            "(16327, 30)\n",
            "(4082, 30)\n"
          ],
          "name": "stdout"
        }
      ]
    },
    {
      "metadata": {
        "id": "lxUgoKfICyo0",
        "colab_type": "code",
        "outputId": "9a1ee0e6-f491-409e-9e70-cc3e41f08311",
        "colab": {}
      },
      "cell_type": "code",
      "source": [
        "test_NF=test[test[:,29]==0]\n",
        "print(test_NF.shape)\n",
        "\n",
        "test_F=test[test[:,29]==1]\n",
        "print(test_F.shape)"
      ],
      "execution_count": 0,
      "outputs": [
        {
          "output_type": "stream",
          "text": [
            "(15942, 30)\n",
            "(385, 30)\n"
          ],
          "name": "stdout"
        }
      ]
    },
    {
      "metadata": {
        "id": "_LKj1_OpCypJ",
        "colab_type": "code",
        "colab": {}
      },
      "cell_type": "code",
      "source": [
        "#Separating the independent and the class variable\n",
        "y_test = test[:,-1]\n",
        "X_test = test[:,:-1]"
      ],
      "execution_count": 0,
      "outputs": []
    },
    {
      "metadata": {
        "id": "vM_kYi6BCypV",
        "colab_type": "code",
        "outputId": "1da00981-2715-46aa-ec9a-ffd3e88ece67",
        "colab": {}
      },
      "cell_type": "code",
      "source": [
        "print(y_test.shape)\n",
        "# Expanding the dimensions of y for later concatenation\n",
        "y_test = np.expand_dims(y_test, axis=1)\n",
        "print(y_test.shape)"
      ],
      "execution_count": 0,
      "outputs": [
        {
          "output_type": "stream",
          "text": [
            "(16327,)\n",
            "(16327, 1)\n"
          ],
          "name": "stdout"
        }
      ]
    },
    {
      "metadata": {
        "id": "7cr1PkUhCypr",
        "colab_type": "text"
      },
      "cell_type": "markdown",
      "source": [
        "#### Model Building"
      ]
    },
    {
      "metadata": {
        "id": "pR6uZ1pwCypt",
        "colab_type": "code",
        "colab": {}
      },
      "cell_type": "code",
      "source": [
        "input_dim = X_train_NF.shape[1]\n",
        "encoding_dim = 15"
      ],
      "execution_count": 0,
      "outputs": []
    },
    {
      "metadata": {
        "id": "glJ2X3DXCyp3",
        "colab_type": "code",
        "colab": {}
      },
      "cell_type": "code",
      "source": [
        "autoencoder = Sequential()\n",
        "#20 is masked\n",
        "autoencoder.add(Dropout(0.2, input_shape=(input_dim,)))\n",
        "autoencoder.add(Dense(encoding_dim, activation='relu'))\n",
        "autoencoder.add(Dense(input_dim, activation='linear'))\n",
        "# input linear so output linear"
      ],
      "execution_count": 0,
      "outputs": []
    },
    {
      "metadata": {
        "id": "DZHTXjB5CyqA",
        "colab_type": "code",
        "colab": {}
      },
      "cell_type": "code",
      "source": [
        "autoencoder.compile(optimizer='adam', loss='mean_squared_error', metrics=['mse'])"
      ],
      "execution_count": 0,
      "outputs": []
    },
    {
      "metadata": {
        "id": "Jzb60u1zCyqH",
        "colab_type": "code",
        "outputId": "ab0e2fd0-978e-4048-a4e4-f5f3a7d53cb6",
        "colab": {}
      },
      "cell_type": "code",
      "source": [
        "nb_epoch = 100\n",
        "batch_size = 32\n",
        "\n",
        "hist = autoencoder.fit(X_train_NF, X_train_NF,\n",
        "                       epochs = nb_epoch,\n",
        "                       batch_size = batch_size,\n",
        "                       shuffle = True,\n",
        "                       validation_data=(X_test, X_test),\n",
        "                       verbose=1).history"
      ],
      "execution_count": 0,
      "outputs": [
        {
          "output_type": "stream",
          "text": [
            "Train on 79591 samples, validate on 16327 samples\n",
            "Epoch 1/100\n",
            "79591/79591 [==============================] - 6s 74us/step - loss: 0.6020 - mean_squared_error: 0.6020 - val_loss: 0.7508 - val_mean_squared_error: 0.7508\n",
            "Epoch 2/100\n",
            "79591/79591 [==============================] - 4s 44us/step - loss: 0.3742 - mean_squared_error: 0.3742 - val_loss: 0.7051 - val_mean_squared_error: 0.7051\n",
            "Epoch 3/100\n",
            "79591/79591 [==============================] - 4s 45us/step - loss: 0.3514 - mean_squared_error: 0.3514 - val_loss: 0.6690 - val_mean_squared_error: 0.6690\n",
            "Epoch 4/100\n",
            "79591/79591 [==============================] - 4s 45us/step - loss: 0.3492 - mean_squared_error: 0.3492 - val_loss: 0.6901 - val_mean_squared_error: 0.6901\n",
            "Epoch 5/100\n",
            "79591/79591 [==============================] - 4s 45us/step - loss: 0.3466 - mean_squared_error: 0.3466 - val_loss: 0.6769 - val_mean_squared_error: 0.6769\n",
            "Epoch 6/100\n",
            "79591/79591 [==============================] - 4s 49us/step - loss: 0.3457 - mean_squared_error: 0.3457 - val_loss: 0.6729 - val_mean_squared_error: 0.6729\n",
            "Epoch 7/100\n",
            "79591/79591 [==============================] - 4s 45us/step - loss: 0.3396 - mean_squared_error: 0.3396 - val_loss: 0.6805 - val_mean_squared_error: 0.6805\n",
            "Epoch 8/100\n",
            "79591/79591 [==============================] - 4s 45us/step - loss: 0.3395 - mean_squared_error: 0.3395 - val_loss: 0.6903 - val_mean_squared_error: 0.6903\n",
            "Epoch 9/100\n",
            "79591/79591 [==============================] - 4s 47us/step - loss: 0.3416 - mean_squared_error: 0.3416 - val_loss: 0.6878 - val_mean_squared_error: 0.6878\n",
            "Epoch 10/100\n",
            "79591/79591 [==============================] - 4s 47us/step - loss: 0.3403 - mean_squared_error: 0.3403 - val_loss: 0.6748 - val_mean_squared_error: 0.6748\n",
            "Epoch 11/100\n",
            "79591/79591 [==============================] - 4s 46us/step - loss: 0.3378 - mean_squared_error: 0.3378 - val_loss: 0.6833 - val_mean_squared_error: 0.6833\n",
            "Epoch 12/100\n",
            "79591/79591 [==============================] - 4s 45us/step - loss: 0.3395 - mean_squared_error: 0.3395 - val_loss: 0.6751 - val_mean_squared_error: 0.6751\n",
            "Epoch 13/100\n",
            "79591/79591 [==============================] - 4s 46us/step - loss: 0.3343 - mean_squared_error: 0.3343 - val_loss: 0.6785 - val_mean_squared_error: 0.6785\n",
            "Epoch 14/100\n",
            "79591/79591 [==============================] - 4s 48us/step - loss: 0.3340 - mean_squared_error: 0.3340 - val_loss: 0.6851 - val_mean_squared_error: 0.6851\n",
            "Epoch 15/100\n",
            "79591/79591 [==============================] - 4s 52us/step - loss: 0.3353 - mean_squared_error: 0.3353 - val_loss: 0.6885 - val_mean_squared_error: 0.6885\n",
            "Epoch 16/100\n",
            "79591/79591 [==============================] - 4s 52us/step - loss: 0.3321 - mean_squared_error: 0.3321 - val_loss: 0.6836 - val_mean_squared_error: 0.6836\n",
            "Epoch 17/100\n",
            "79591/79591 [==============================] - 4s 54us/step - loss: 0.3304 - mean_squared_error: 0.3304 - val_loss: 0.6932 - val_mean_squared_error: 0.6932\n",
            "Epoch 18/100\n",
            "79591/79591 [==============================] - 4s 49us/step - loss: 0.3301 - mean_squared_error: 0.3301 - val_loss: 0.6728 - val_mean_squared_error: 0.6728\n",
            "Epoch 19/100\n",
            "79591/79591 [==============================] - 4s 45us/step - loss: 0.3303 - mean_squared_error: 0.3303 - val_loss: 0.6769 - val_mean_squared_error: 0.6769\n",
            "Epoch 20/100\n",
            "79591/79591 [==============================] - 4s 50us/step - loss: 0.3332 - mean_squared_error: 0.3332 - val_loss: 0.6817 - val_mean_squared_error: 0.6817\n",
            "Epoch 21/100\n",
            "79591/79591 [==============================] - 4s 47us/step - loss: 0.3299 - mean_squared_error: 0.3299 - val_loss: 0.6889 - val_mean_squared_error: 0.6889\n",
            "Epoch 22/100\n",
            "79591/79591 [==============================] - 4s 46us/step - loss: 0.3307 - mean_squared_error: 0.3307 - val_loss: 0.6994 - val_mean_squared_error: 0.6994\n",
            "Epoch 23/100\n",
            "79591/79591 [==============================] - 4s 46us/step - loss: 0.3320 - mean_squared_error: 0.3320 - val_loss: 0.6806 - val_mean_squared_error: 0.6806\n",
            "Epoch 24/100\n",
            "79591/79591 [==============================] - 4s 49us/step - loss: 0.3354 - mean_squared_error: 0.3354 - val_loss: 0.6796 - val_mean_squared_error: 0.6796\n",
            "Epoch 25/100\n",
            "79591/79591 [==============================] - 4s 46us/step - loss: 0.3261 - mean_squared_error: 0.3261 - val_loss: 0.6827 - val_mean_squared_error: 0.6827\n",
            "Epoch 26/100\n",
            "79591/79591 [==============================] - 4s 46us/step - loss: 0.3283 - mean_squared_error: 0.3283 - val_loss: 0.6800 - val_mean_squared_error: 0.6800\n",
            "Epoch 27/100\n",
            "79591/79591 [==============================] - 4s 46us/step - loss: 0.3329 - mean_squared_error: 0.3329 - val_loss: 0.6783 - val_mean_squared_error: 0.6783\n",
            "Epoch 28/100\n",
            "79591/79591 [==============================] - 4s 49us/step - loss: 0.3292 - mean_squared_error: 0.3292 - val_loss: 0.6809 - val_mean_squared_error: 0.6809\n",
            "Epoch 29/100\n",
            "79591/79591 [==============================] - 4s 52us/step - loss: 0.3280 - mean_squared_error: 0.3280 - val_loss: 0.6853 - val_mean_squared_error: 0.6853\n",
            "Epoch 30/100\n",
            "79591/79591 [==============================] - 4s 45us/step - loss: 0.3267 - mean_squared_error: 0.3267 - val_loss: 0.6765 - val_mean_squared_error: 0.6765\n",
            "Epoch 31/100\n",
            "79591/79591 [==============================] - 4s 53us/step - loss: 0.3276 - mean_squared_error: 0.3276 - val_loss: 0.6819 - val_mean_squared_error: 0.6819\n",
            "Epoch 32/100\n",
            "79591/79591 [==============================] - 4s 53us/step - loss: 0.3270 - mean_squared_error: 0.3270 - val_loss: 0.6716 - val_mean_squared_error: 0.6716\n",
            "Epoch 33/100\n",
            "79591/79591 [==============================] - 4s 52us/step - loss: 0.3288 - mean_squared_error: 0.3288 - val_loss: 0.6865 - val_mean_squared_error: 0.6865\n",
            "Epoch 34/100\n",
            "79591/79591 [==============================] - 4s 50us/step - loss: 0.3246 - mean_squared_error: 0.3246 - val_loss: 0.6755 - val_mean_squared_error: 0.6755\n",
            "Epoch 35/100\n",
            "79591/79591 [==============================] - 4s 55us/step - loss: 0.3266 - mean_squared_error: 0.3266 - val_loss: 0.6704 - val_mean_squared_error: 0.6704\n",
            "Epoch 36/100\n",
            "79591/79591 [==============================] - 4s 54us/step - loss: 0.3311 - mean_squared_error: 0.3311 - val_loss: 0.6804 - val_mean_squared_error: 0.6804\n",
            "Epoch 37/100\n",
            "79591/79591 [==============================] - 5s 58us/step - loss: 0.3267 - mean_squared_error: 0.3267 - val_loss: 0.6769 - val_mean_squared_error: 0.6769\n",
            "Epoch 38/100\n",
            "79591/79591 [==============================] - 4s 54us/step - loss: 0.3243 - mean_squared_error: 0.3243 - val_loss: 0.6835 - val_mean_squared_error: 0.6835\n",
            "Epoch 39/100\n",
            "79591/79591 [==============================] - 4s 55us/step - loss: 0.3256 - mean_squared_error: 0.3256 - val_loss: 0.6691 - val_mean_squared_error: 0.6691\n",
            "Epoch 40/100\n",
            "79591/79591 [==============================] - 4s 49us/step - loss: 0.3232 - mean_squared_error: 0.3232 - val_loss: 0.6640 - val_mean_squared_error: 0.6640\n",
            "Epoch 41/100\n",
            "79591/79591 [==============================] - 4s 49us/step - loss: 0.3294 - mean_squared_error: 0.3294 - val_loss: 0.6763 - val_mean_squared_error: 0.6763\n",
            "Epoch 42/100\n",
            "79591/79591 [==============================] - 4s 51us/step - loss: 0.3244 - mean_squared_error: 0.3244 - val_loss: 0.6661 - val_mean_squared_error: 0.6661\n",
            "Epoch 43/100\n",
            "79591/79591 [==============================] - 4s 52us/step - loss: 0.3241 - mean_squared_error: 0.3241 - val_loss: 0.6764 - val_mean_squared_error: 0.6764\n",
            "Epoch 44/100\n",
            "79591/79591 [==============================] - 4s 49us/step - loss: 0.3252 - mean_squared_error: 0.3252 - val_loss: 0.6769 - val_mean_squared_error: 0.6769\n",
            "Epoch 45/100\n",
            "79591/79591 [==============================] - 4s 50us/step - loss: 0.3241 - mean_squared_error: 0.3241 - val_loss: 0.6670 - val_mean_squared_error: 0.6670\n",
            "Epoch 46/100\n",
            "79591/79591 [==============================] - 4s 54us/step - loss: 0.3300 - mean_squared_error: 0.3300 - val_loss: 0.6859 - val_mean_squared_error: 0.6859\n",
            "Epoch 47/100\n",
            "79591/79591 [==============================] - 5s 59us/step - loss: 0.3244 - mean_squared_error: 0.3244 - val_loss: 0.6769 - val_mean_squared_error: 0.6769\n",
            "Epoch 48/100\n",
            "79591/79591 [==============================] - 4s 56us/step - loss: 0.3255 - mean_squared_error: 0.3255 - val_loss: 0.6688 - val_mean_squared_error: 0.6688\n",
            "Epoch 49/100\n"
          ],
          "name": "stdout"
        },
        {
          "output_type": "stream",
          "text": [
            "79591/79591 [==============================] - 4s 52us/step - loss: 0.3243 - mean_squared_error: 0.3243 - val_loss: 0.6698 - val_mean_squared_error: 0.6698\n",
            "Epoch 50/100\n",
            "79591/79591 [==============================] - 4s 52us/step - loss: 0.3286 - mean_squared_error: 0.3286 - val_loss: 0.6546 - val_mean_squared_error: 0.6546\n",
            "Epoch 51/100\n",
            "79591/79591 [==============================] - 4s 52us/step - loss: 0.3250 - mean_squared_error: 0.3250 - val_loss: 0.6604 - val_mean_squared_error: 0.6604\n",
            "Epoch 52/100\n",
            "79591/79591 [==============================] - 4s 49us/step - loss: 0.3273 - mean_squared_error: 0.3273 - val_loss: 0.6855 - val_mean_squared_error: 0.6855\n",
            "Epoch 53/100\n",
            "79591/79591 [==============================] - 4s 53us/step - loss: 0.3230 - mean_squared_error: 0.3230 - val_loss: 0.6862 - val_mean_squared_error: 0.6862\n",
            "Epoch 54/100\n",
            "79591/79591 [==============================] - 4s 54us/step - loss: 0.3259 - mean_squared_error: 0.3259 - val_loss: 0.6685 - val_mean_squared_error: 0.6685\n",
            "Epoch 55/100\n",
            "79591/79591 [==============================] - 4s 52us/step - loss: 0.3259 - mean_squared_error: 0.3259 - val_loss: 0.6617 - val_mean_squared_error: 0.6617\n",
            "Epoch 56/100\n",
            "79591/79591 [==============================] - 4s 51us/step - loss: 0.3250 - mean_squared_error: 0.3250 - val_loss: 0.6806 - val_mean_squared_error: 0.6806\n",
            "Epoch 57/100\n",
            "79591/79591 [==============================] - 4s 51us/step - loss: 0.3270 - mean_squared_error: 0.3270 - val_loss: 0.6702 - val_mean_squared_error: 0.6702\n",
            "Epoch 58/100\n",
            "79591/79591 [==============================] - 4s 53us/step - loss: 0.3219 - mean_squared_error: 0.3219 - val_loss: 0.6777 - val_mean_squared_error: 0.6777\n",
            "Epoch 59/100\n",
            "79591/79591 [==============================] - 4s 50us/step - loss: 0.3261 - mean_squared_error: 0.3261 - val_loss: 0.6650 - val_mean_squared_error: 0.6650\n",
            "Epoch 60/100\n",
            "79591/79591 [==============================] - 4s 50us/step - loss: 0.3221 - mean_squared_error: 0.3221 - val_loss: 0.6778 - val_mean_squared_error: 0.6778\n",
            "Epoch 61/100\n",
            "79591/79591 [==============================] - 5s 59us/step - loss: 0.3263 - mean_squared_error: 0.3263 - val_loss: 0.6663 - val_mean_squared_error: 0.6663\n",
            "Epoch 62/100\n",
            "79591/79591 [==============================] - 4s 55us/step - loss: 0.3245 - mean_squared_error: 0.3245 - val_loss: 0.6806 - val_mean_squared_error: 0.6806\n",
            "Epoch 63/100\n",
            "79591/79591 [==============================] - 4s 49us/step - loss: 0.3237 - mean_squared_error: 0.3237 - val_loss: 0.6826 - val_mean_squared_error: 0.6826\n",
            "Epoch 64/100\n",
            "79591/79591 [==============================] - 4s 48us/step - loss: 0.3246 - mean_squared_error: 0.3246 - val_loss: 0.6717 - val_mean_squared_error: 0.6717\n",
            "Epoch 65/100\n",
            "79591/79591 [==============================] - 4s 48us/step - loss: 0.3237 - mean_squared_error: 0.3237 - val_loss: 0.6648 - val_mean_squared_error: 0.6648\n",
            "Epoch 66/100\n",
            "79591/79591 [==============================] - 4s 48us/step - loss: 0.3245 - mean_squared_error: 0.3245 - val_loss: 0.6851 - val_mean_squared_error: 0.6851\n",
            "Epoch 67/100\n",
            "79591/79591 [==============================] - 4s 48us/step - loss: 0.3232 - mean_squared_error: 0.3232 - val_loss: 0.6583 - val_mean_squared_error: 0.6583\n",
            "Epoch 68/100\n",
            "79591/79591 [==============================] - 4s 49us/step - loss: 0.3266 - mean_squared_error: 0.3266 - val_loss: 0.6789 - val_mean_squared_error: 0.6789\n",
            "Epoch 69/100\n",
            "79591/79591 [==============================] - 4s 53us/step - loss: 0.3237 - mean_squared_error: 0.3237 - val_loss: 0.6650 - val_mean_squared_error: 0.6650\n",
            "Epoch 70/100\n",
            "79591/79591 [==============================] - 4s 51us/step - loss: 0.3235 - mean_squared_error: 0.3235 - val_loss: 0.6617 - val_mean_squared_error: 0.6617\n",
            "Epoch 71/100\n",
            "79591/79591 [==============================] - 4s 51us/step - loss: 0.3234 - mean_squared_error: 0.3234 - val_loss: 0.6612 - val_mean_squared_error: 0.6612\n",
            "Epoch 72/100\n",
            "79591/79591 [==============================] - 4s 53us/step - loss: 0.3253 - mean_squared_error: 0.3253 - val_loss: 0.6758 - val_mean_squared_error: 0.6758\n",
            "Epoch 73/100\n",
            "79591/79591 [==============================] - 4s 55us/step - loss: 0.3216 - mean_squared_error: 0.3216 - val_loss: 0.6640 - val_mean_squared_error: 0.6640\n",
            "Epoch 74/100\n",
            "79591/79591 [==============================] - 4s 53us/step - loss: 0.3254 - mean_squared_error: 0.3254 - val_loss: 0.6683 - val_mean_squared_error: 0.6683\n",
            "Epoch 75/100\n",
            "79591/79591 [==============================] - 4s 56us/step - loss: 0.3249 - mean_squared_error: 0.3249 - val_loss: 0.6585 - val_mean_squared_error: 0.6585\n",
            "Epoch 76/100\n",
            "79591/79591 [==============================] - 5s 58us/step - loss: 0.3275 - mean_squared_error: 0.3275 - val_loss: 0.6835 - val_mean_squared_error: 0.6835\n",
            "Epoch 77/100\n",
            "79591/79591 [==============================] - 4s 53us/step - loss: 0.3247 - mean_squared_error: 0.3247 - val_loss: 0.6614 - val_mean_squared_error: 0.6614\n",
            "Epoch 78/100\n",
            "79591/79591 [==============================] - 5s 57us/step - loss: 0.3227 - mean_squared_error: 0.3227 - val_loss: 0.6722 - val_mean_squared_error: 0.6722\n",
            "Epoch 79/100\n",
            "79591/79591 [==============================] - 4s 55us/step - loss: 0.3263 - mean_squared_error: 0.3263 - val_loss: 0.6683 - val_mean_squared_error: 0.6683\n",
            "Epoch 80/100\n",
            "79591/79591 [==============================] - 4s 56us/step - loss: 0.3225 - mean_squared_error: 0.3225 - val_loss: 0.6614 - val_mean_squared_error: 0.6614\n",
            "Epoch 81/100\n",
            "79591/79591 [==============================] - 5s 57us/step - loss: 0.3250 - mean_squared_error: 0.3250 - val_loss: 0.6683 - val_mean_squared_error: 0.6683\n",
            "Epoch 82/100\n",
            "79591/79591 [==============================] - 4s 56us/step - loss: 0.3230 - mean_squared_error: 0.3230 - val_loss: 0.6537 - val_mean_squared_error: 0.6537\n",
            "Epoch 83/100\n",
            "79591/79591 [==============================] - 4s 54us/step - loss: 0.3245 - mean_squared_error: 0.3245 - val_loss: 0.6742 - val_mean_squared_error: 0.6742\n",
            "Epoch 84/100\n",
            "79591/79591 [==============================] - 4s 54us/step - loss: 0.3265 - mean_squared_error: 0.3265 - val_loss: 0.6692 - val_mean_squared_error: 0.6692\n",
            "Epoch 85/100\n",
            "79591/79591 [==============================] - 4s 56us/step - loss: 0.3242 - mean_squared_error: 0.3242 - val_loss: 0.6704 - val_mean_squared_error: 0.6704\n",
            "Epoch 86/100\n",
            "79591/79591 [==============================] - 4s 56us/step - loss: 0.3220 - mean_squared_error: 0.3220 - val_loss: 0.6707 - val_mean_squared_error: 0.6707\n",
            "Epoch 87/100\n",
            "79591/79591 [==============================] - 4s 57us/step - loss: 0.3207 - mean_squared_error: 0.3207 - val_loss: 0.6848 - val_mean_squared_error: 0.6848\n",
            "Epoch 88/100\n",
            "79591/79591 [==============================] - 4s 55us/step - loss: 0.3245 - mean_squared_error: 0.3245 - val_loss: 0.6787 - val_mean_squared_error: 0.6787\n",
            "Epoch 89/100\n",
            "79591/79591 [==============================] - 4s 55us/step - loss: 0.3210 - mean_squared_error: 0.3210 - val_loss: 0.6748 - val_mean_squared_error: 0.6748\n",
            "Epoch 90/100\n",
            "79591/79591 [==============================] - 4s 52us/step - loss: 0.3215 - mean_squared_error: 0.3215 - val_loss: 0.6810 - val_mean_squared_error: 0.6810\n",
            "Epoch 91/100\n",
            "79591/79591 [==============================] - 4s 52us/step - loss: 0.3240 - mean_squared_error: 0.3240 - val_loss: 0.6811 - val_mean_squared_error: 0.6811\n",
            "Epoch 92/100\n",
            "79591/79591 [==============================] - 4s 54us/step - loss: 0.3200 - mean_squared_error: 0.3200 - val_loss: 0.6739 - val_mean_squared_error: 0.6739\n",
            "Epoch 93/100\n",
            "79591/79591 [==============================] - 5s 57us/step - loss: 0.3216 - mean_squared_error: 0.3216 - val_loss: 0.6564 - val_mean_squared_error: 0.6564\n",
            "Epoch 94/100\n",
            "79591/79591 [==============================] - 5s 59us/step - loss: 0.3247 - mean_squared_error: 0.3247 - val_loss: 0.6685 - val_mean_squared_error: 0.6685\n",
            "Epoch 95/100\n",
            "79591/79591 [==============================] - 4s 50us/step - loss: 0.3222 - mean_squared_error: 0.3222 - val_loss: 0.6631 - val_mean_squared_error: 0.6631\n",
            "Epoch 96/100\n",
            "79591/79591 [==============================] - 4s 50us/step - loss: 0.3237 - mean_squared_error: 0.3237 - val_loss: 0.6695 - val_mean_squared_error: 0.6695\n",
            "Epoch 97/100\n"
          ],
          "name": "stdout"
        },
        {
          "output_type": "stream",
          "text": [
            "79591/79591 [==============================] - 4s 50us/step - loss: 0.3227 - mean_squared_error: 0.3227 - val_loss: 0.6812 - val_mean_squared_error: 0.6812\n",
            "Epoch 98/100\n",
            "79591/79591 [==============================] - 4s 53us/step - loss: 0.3205 - mean_squared_error: 0.3205 - val_loss: 0.6853 - val_mean_squared_error: 0.6853\n",
            "Epoch 99/100\n",
            "79591/79591 [==============================] - 4s 51us/step - loss: 0.3225 - mean_squared_error: 0.3225 - val_loss: 0.6693 - val_mean_squared_error: 0.6693\n",
            "Epoch 100/100\n",
            "79591/79591 [==============================] - 4s 55us/step - loss: 0.3211 - mean_squared_error: 0.3211 - val_loss: 0.6706 - val_mean_squared_error: 0.6706\n"
          ],
          "name": "stdout"
        }
      ]
    },
    {
      "metadata": {
        "id": "jL-gwIJKCyqQ",
        "colab_type": "code",
        "outputId": "43295065-4812-49bc-db68-c33f3c43d80e",
        "colab": {}
      },
      "cell_type": "code",
      "source": [
        "print(hist)"
      ],
      "execution_count": 0,
      "outputs": [
        {
          "output_type": "stream",
          "text": [
            "{'val_loss': [0.7507589702125552, 0.7051287040980526, 0.6690000083653204, 0.6900871010653393, 0.67693355635065, 0.6729460221764841, 0.680518692993976, 0.6903279469547966, 0.6877991638029463, 0.6747852705349244, 0.6833132739927397, 0.6750517156683107, 0.6785481327008053, 0.685097933627828, 0.6885201776621644, 0.6835876798663713, 0.6932391291383273, 0.6727713176669965, 0.67693515047828, 0.6816802999691391, 0.6889021598236613, 0.6994057278577043, 0.6806017168666185, 0.6795722026891977, 0.682717732208536, 0.6800061727195126, 0.6783272336616062, 0.6809327184484062, 0.6852615956878052, 0.6765109566483267, 0.6818752320789185, 0.6716293366099408, 0.6865274958007224, 0.6754862654630426, 0.6704457289852266, 0.680384565685306, 0.6769073770237822, 0.6835362250259709, 0.6691008550726704, 0.6639996219688558, 0.6762694361151167, 0.6661359296011065, 0.6763812208908351, 0.6769485516802098, 0.6669820722126586, 0.6858689682364807, 0.6768942165129795, 0.6688149567311747, 0.669787002011742, 0.6546092805431939, 0.6603979602645016, 0.6855181085670572, 0.6862335206620537, 0.6685132665083122, 0.6617263201219158, 0.6806172795583243, 0.6702119494231791, 0.6776766367386697, 0.6649745516787041, 0.6777731588017578, 0.6663453235082343, 0.6806300747602285, 0.682555785371967, 0.6716540210255217, 0.6647796777835733, 0.6851378649120899, 0.6582722437172195, 0.6788589643347451, 0.6649847781365388, 0.6616789729476391, 0.6611762181514913, 0.6758312424201612, 0.6640294458850129, 0.6683432434449889, 0.6584765245227474, 0.6834765583999584, 0.6613793212779192, 0.672170437079756, 0.6683133174339277, 0.6614459865961144, 0.6682756084031773, 0.6537472161326294, 0.6742232482251296, 0.6691995581466306, 0.6703721289886018, 0.6707348181593621, 0.6847818160116209, 0.6786935653197771, 0.6747631227365206, 0.6810230500888874, 0.681085800658381, 0.6739482820315129, 0.6564015627013219, 0.6685196922245165, 0.6630884427578398, 0.669457331083479, 0.681246054366367, 0.6852690222907389, 0.6692527508866352, 0.6706220763141952], 'val_mean_squared_error': [0.7507589702125552, 0.7051287040980526, 0.6690000083653204, 0.6900871010653393, 0.67693355635065, 0.6729460221764841, 0.680518692993976, 0.6903279469547966, 0.6877991638029463, 0.6747852705349244, 0.6833132739927397, 0.6750517156683107, 0.6785481327008053, 0.685097933627828, 0.6885201776621644, 0.6835876798663713, 0.6932391291383273, 0.6727713176669965, 0.67693515047828, 0.6816802999691391, 0.6889021598236613, 0.6994057278577043, 0.6806017168666185, 0.6795722026891977, 0.682717732208536, 0.6800061727195126, 0.6783272336616062, 0.6809327184484062, 0.6852615956878052, 0.6765109566483267, 0.6818752320789185, 0.6716293366099408, 0.6865274958007224, 0.6754862654630426, 0.6704457289852266, 0.680384565685306, 0.6769073770237822, 0.6835362250259709, 0.6691008550726704, 0.6639996219688558, 0.6762694361151167, 0.6661359296011065, 0.6763812208908351, 0.6769485516802098, 0.6669820722126586, 0.6858689682364807, 0.6768942165129795, 0.6688149567311747, 0.669787002011742, 0.6546092805431939, 0.6603979602645016, 0.6855181085670572, 0.6862335206620537, 0.6685132665083122, 0.6617263201219158, 0.6806172795583243, 0.6702119494231791, 0.6776766367386697, 0.6649745516787041, 0.6777731588017578, 0.6663453235082343, 0.6806300747602285, 0.682555785371967, 0.6716540210255217, 0.6647796777835733, 0.6851378649120899, 0.6582722437172195, 0.6788589643347451, 0.6649847781365388, 0.6616789729476391, 0.6611762181514913, 0.6758312424201612, 0.6640294458850129, 0.6683432434449889, 0.6584765245227474, 0.6834765583999584, 0.6613793212779192, 0.672170437079756, 0.6683133174339277, 0.6614459865961144, 0.6682756084031773, 0.6537472161326294, 0.6742232482251296, 0.6691995581466306, 0.6703721289886018, 0.6707348181593621, 0.6847818160116209, 0.6786935653197771, 0.6747631227365206, 0.6810230500888874, 0.681085800658381, 0.6739482820315129, 0.6564015627013219, 0.6685196922245165, 0.6630884427578398, 0.669457331083479, 0.681246054366367, 0.6852690222907389, 0.6692527508866352, 0.6706220763141952], 'loss': [0.6020286770328767, 0.3742115063983687, 0.35144169427319394, 0.3491950957547694, 0.3466472727479919, 0.3457133652162918, 0.3396330032503682, 0.33950636655807803, 0.3416192480148407, 0.3403322361027264, 0.33775541092066586, 0.33945681810696554, 0.33427583365904917, 0.3339720999805428, 0.3352579834386593, 0.3321414449087445, 0.3304319254463032, 0.33014061319236565, 0.3303285467019339, 0.33316593981787, 0.3298852735682265, 0.33069717768398166, 0.33197555407185086, 0.3353556661860322, 0.32614532438485266, 0.3282666708364858, 0.33287285672312406, 0.3291773317876169, 0.3280314676748836, 0.32672534630366645, 0.3275697357933217, 0.3270027536284624, 0.32879503888287404, 0.32461284667598356, 0.3265518664795491, 0.3310976906416606, 0.3267292073210749, 0.32425373715550426, 0.32559885434602553, 0.3231777984136564, 0.3293871217931519, 0.32441223853574974, 0.32406764188935955, 0.3252179208665555, 0.3240686898687369, 0.33003964505769445, 0.324446122280216, 0.32546888675059854, 0.3242627738540716, 0.3286087217515428, 0.32498465796453735, 0.32734499950644746, 0.3229940251038099, 0.3259416743524156, 0.32592613846327595, 0.32500239802188546, 0.3269778244592687, 0.3219398921786098, 0.3261440052333984, 0.32209961068984294, 0.32628347963149756, 0.3245490701462321, 0.32374699661788964, 0.3246021448919598, 0.3237080499057104, 0.3244962667262903, 0.32321278612745574, 0.32664319786472057, 0.32371734198757546, 0.3235263016060246, 0.3233759026512517, 0.3252826826697123, 0.3215579769466254, 0.32539639274461507, 0.3248625043982981, 0.3274544095208508, 0.324688084103861, 0.3226860273641643, 0.32634724976725404, 0.32247193296273097, 0.32498876374640395, 0.3230229227627741, 0.3245413645515386, 0.32653334908094434, 0.3242434240056942, 0.32204323818258673, 0.32070330498474386, 0.3245385074370293, 0.32095765746082694, 0.3215184571906164, 0.32400495799229356, 0.3200189085800294, 0.3216374983998393, 0.3246680772863504, 0.32218067625540814, 0.32369474403447734, 0.3226659860566748, 0.32051082848948387, 0.3225151194852245, 0.3210961707197066], 'mean_squared_error': [0.6020286770328767, 0.3742115063983687, 0.35144169427319394, 0.3491950957547694, 0.3466472727479919, 0.3457133652162918, 0.3396330032503682, 0.33950636655807803, 0.3416192480148407, 0.3403322361027264, 0.33775541092066586, 0.33945681810696554, 0.33427583365904917, 0.3339720999805428, 0.3352579834386593, 0.3321414449087445, 0.3304319254463032, 0.33014061319236565, 0.3303285467019339, 0.33316593981787, 0.3298852735682265, 0.33069717768398166, 0.33197555407185086, 0.3353556661860322, 0.32614532438485266, 0.3282666708364858, 0.33287285672312406, 0.3291773317876169, 0.3280314676748836, 0.32672534630366645, 0.3275697357933217, 0.3270027536284624, 0.32879503888287404, 0.32461284667598356, 0.3265518664795491, 0.3310976906416606, 0.3267292073210749, 0.32425373715550426, 0.32559885434602553, 0.3231777984136564, 0.3293871217931519, 0.32441223853574974, 0.32406764188935955, 0.3252179208665555, 0.3240686898687369, 0.33003964505769445, 0.324446122280216, 0.32546888675059854, 0.3242627738540716, 0.3286087217515428, 0.32498465796453735, 0.32734499950644746, 0.3229940251038099, 0.3259416743524156, 0.32592613846327595, 0.32500239802188546, 0.3269778244592687, 0.3219398921786098, 0.3261440052333984, 0.32209961068984294, 0.32628347963149756, 0.3245490701462321, 0.32374699661788964, 0.3246021448919598, 0.3237080499057104, 0.3244962667262903, 0.32321278612745574, 0.32664319786472057, 0.32371734198757546, 0.3235263016060246, 0.3233759026512517, 0.3252826826697123, 0.3215579769466254, 0.32539639274461507, 0.3248625043982981, 0.3274544095208508, 0.324688084103861, 0.3226860273641643, 0.32634724976725404, 0.32247193296273097, 0.32498876374640395, 0.3230229227627741, 0.3245413645515386, 0.32653334908094434, 0.3242434240056942, 0.32204323818258673, 0.32070330498474386, 0.3245385074370293, 0.32095765746082694, 0.3215184571906164, 0.32400495799229356, 0.3200189085800294, 0.3216374983998393, 0.3246680772863504, 0.32218067625540814, 0.32369474403447734, 0.3226659860566748, 0.32051082848948387, 0.3225151194852245, 0.3210961707197066]}\n"
          ],
          "name": "stdout"
        }
      ]
    },
    {
      "metadata": {
        "id": "ujCUpI6TCyqX",
        "colab_type": "code",
        "colab": {}
      },
      "cell_type": "code",
      "source": [
        "##To extract outputs from the hidden layer\n",
        "from keras import backend as K\n",
        "layer_output_encoded = K.function([autoencoder.layers[0].input, K.learning_phase()],\n",
        "                                  [autoencoder.layers[1].output])\n"
      ],
      "execution_count": 0,
      "outputs": []
    },
    {
      "metadata": {
        "id": "vNxVjm4hCyqc",
        "colab_type": "code",
        "colab": {}
      },
      "cell_type": "code",
      "source": [
        "encoded = layer_output_encoded([X_train_NF,0])[0]"
      ],
      "execution_count": 0,
      "outputs": []
    },
    {
      "metadata": {
        "id": "rVc2EoSUCyqp",
        "colab_type": "code",
        "colab": {}
      },
      "cell_type": "code",
      "source": [
        "##To extract outputs from the output layer\n",
        "layer_output_decoded = K.function([autoencoder.layers[0].input, K.learning_phase()],\n",
        "                                  [autoencoder.layers[2].output])\n",
        "decoded = layer_output_decoded([X_train_NF, 0])[0]"
      ],
      "execution_count": 0,
      "outputs": []
    },
    {
      "metadata": {
        "id": "Jrd8ibmjCyqy",
        "colab_type": "code",
        "colab": {}
      },
      "cell_type": "code",
      "source": [
        "## Making predictions on the train data\n",
        "predictions = autoencoder.predict(X_train_NF)"
      ],
      "execution_count": 0,
      "outputs": []
    },
    {
      "metadata": {
        "id": "BQrznuyYCyq8",
        "colab_type": "code",
        "outputId": "e567e1f5-d36c-4b0c-89c6-f0d71749d226",
        "colab": {}
      },
      "cell_type": "code",
      "source": [
        "#Getting the errors from the non fraud data separately \n",
        "autoencoder.evaluate(test_NF[:,:29],test_NF[:,:29])"
      ],
      "execution_count": 0,
      "outputs": [
        {
          "output_type": "stream",
          "text": [
            "15942/15942 [==============================] - 0s 26us/step\n"
          ],
          "name": "stdout"
        },
        {
          "output_type": "execute_result",
          "data": {
            "text/plain": [
              "[0.2288174508250488, 0.2288174508250488]"
            ]
          },
          "metadata": {
            "tags": []
          },
          "execution_count": 30
        }
      ]
    },
    {
      "metadata": {
        "id": "9IcoJKHKCyrG",
        "colab_type": "code",
        "outputId": "a0aa00c7-acd3-4426-8dea-24858965ba7b",
        "colab": {}
      },
      "cell_type": "code",
      "source": [
        "#Getting the errors from the fraud data separately\n",
        "autoencoder.evaluate(test_F[:,:29], test_F[:,:29])"
      ],
      "execution_count": 0,
      "outputs": [
        {
          "output_type": "stream",
          "text": [
            "385/385 [==============================] - 0s 162us/step\n"
          ],
          "name": "stdout"
        },
        {
          "output_type": "execute_result",
          "data": {
            "text/plain": [
              "[18.96477629426238, 18.96477629426238]"
            ]
          },
          "metadata": {
            "tags": []
          },
          "execution_count": 31
        }
      ]
    },
    {
      "metadata": {
        "id": "9sqXMtJTCyrS",
        "colab_type": "code",
        "colab": {}
      },
      "cell_type": "code",
      "source": [
        "#Obtaining predictions for non fraud records\n",
        "predictions_nf=autoencoder.predict(test_NF[:,:29])"
      ],
      "execution_count": 0,
      "outputs": []
    },
    {
      "metadata": {
        "id": "uG8nzuulCyrV",
        "colab_type": "code",
        "colab": {}
      },
      "cell_type": "code",
      "source": [
        "#Obtaining preictions for fraud records\n",
        "predictions_f=autoencoder.predict(test_F[:,:29])"
      ],
      "execution_count": 0,
      "outputs": []
    },
    {
      "metadata": {
        "id": "oe26EY0aCyrY",
        "colab_type": "code",
        "outputId": "719bb35a-29e7-4b74-e424-14c705d6c6a8",
        "colab": {}
      },
      "cell_type": "code",
      "source": [
        "#Identifying the error computation method by autoencoder(Mean Squared Error). The computation is as follows \n",
        "np.mean(np.square(np.abs(test_NF[:,:29]-predictions_nf)))"
      ],
      "execution_count": 0,
      "outputs": [
        {
          "output_type": "execute_result",
          "data": {
            "text/plain": [
              "0.22881744838731152"
            ]
          },
          "metadata": {
            "tags": []
          },
          "execution_count": 35
        }
      ]
    },
    {
      "metadata": {
        "id": "02_Azl7SCyrd",
        "colab_type": "code",
        "colab": {}
      },
      "cell_type": "code",
      "source": [
        "#Computing errors on the non-fraud data\n",
        "errors_nf = np.mean(np.square(np.abs(test_NF[:,:29]-predictions_nf)), axis=1)"
      ],
      "execution_count": 0,
      "outputs": []
    },
    {
      "metadata": {
        "id": "dFHQ25P9Cyrf",
        "colab_type": "code",
        "colab": {}
      },
      "cell_type": "code",
      "source": [
        "#Computing errors on the fraud data\n",
        "errors_f = np.mean(np.square(np.abs(test_F[:,:29]-predictions_f)), axis=1)"
      ],
      "execution_count": 0,
      "outputs": []
    },
    {
      "metadata": {
        "id": "yYqRRGjsCyri",
        "colab_type": "code",
        "outputId": "2342461c-318d-4166-e605-b034fcd1d6e7",
        "colab": {}
      },
      "cell_type": "code",
      "source": [
        "#Computing the distribution of errors in both non-fraud and fraud data\n",
        "print(np.min(errors_nf))\n",
        "print(np.max(errors_nf))\n",
        "print(np.median(errors_nf))\n",
        "\n",
        "print(np.min(errors_f))\n",
        "print(np.max(errors_f))\n",
        "print(np.median(errors_f))"
      ],
      "execution_count": 0,
      "outputs": [
        {
          "output_type": "stream",
          "text": [
            "0.01158613765027327\n",
            "95.28864484394727\n",
            "0.12178854965091762\n",
            "0.0449454855433906\n",
            "124.47924352424931\n",
            "7.751741972679444\n"
          ],
          "name": "stdout"
        }
      ]
    },
    {
      "metadata": {
        "id": "OnTIfBXzCyrt",
        "colab_type": "code",
        "outputId": "fa89fbf0-ca7c-4e80-9ea1-b6f97d03f112",
        "colab": {}
      },
      "cell_type": "code",
      "source": [
        "#PLotting the error box plots \n",
        "plt.subplot(1, 2, 1)\n",
        "plt.boxplot(errors_f)\n",
        "\n",
        "plt.subplot(1, 2, 2)\n",
        "plt.boxplot(errors_nf)"
      ],
      "execution_count": 0,
      "outputs": [
        {
          "output_type": "execute_result",
          "data": {
            "text/plain": [
              "{'boxes': [<matplotlib.lines.Line2D at 0x2998e9bb390>],\n",
              " 'caps': [<matplotlib.lines.Line2D at 0x2998e9bbda0>,\n",
              "  <matplotlib.lines.Line2D at 0x2998e9a2208>],\n",
              " 'fliers': [<matplotlib.lines.Line2D at 0x2998e9a2a58>],\n",
              " 'means': [],\n",
              " 'medians': [<matplotlib.lines.Line2D at 0x2998e9a2630>],\n",
              " 'whiskers': [<matplotlib.lines.Line2D at 0x2998e9bb4e0>,\n",
              "  <matplotlib.lines.Line2D at 0x2998e9bb978>]}"
            ]
          },
          "metadata": {
            "tags": []
          },
          "execution_count": 39
        },
        {
          "output_type": "display_data",
          "data": {
            "image/png": "[encoded data removed]",
            "text/plain": [
              "<matplotlib.figure.Figure at 0x2998e969320>"
            ]
          },
          "metadata": {
            "tags": []
          }
        }
      ]
    },
    {
      "metadata": {
        "id": "2SGvXoKGCyrz",
        "colab_type": "code",
        "outputId": "ce07dad1-5faa-470e-8499-1bde42defbdb",
        "colab": {}
      },
      "cell_type": "code",
      "source": [
        "#Experimentation to fix a threshold for classification of a transaction into fraud or non-fraud\n",
        "print(sum(errors_nf>np.median(errors_f)))\n",
        "print(sum(errors_f<np.median(errors_f)))\n",
        "print(sum(errors_f<np.median(errors_nf)))\n",
        "sum(errors_nf>np.median(errors_nf))"
      ],
      "execution_count": 0,
      "outputs": [
        {
          "output_type": "stream",
          "text": [
            "17\n",
            "192\n",
            "6\n"
          ],
          "name": "stdout"
        },
        {
          "output_type": "execute_result",
          "data": {
            "text/plain": [
              "7971"
            ]
          },
          "metadata": {
            "tags": []
          },
          "execution_count": 58
        }
      ]
    },
    {
      "metadata": {
        "id": "k50Skc3yCyr7",
        "colab_type": "code",
        "outputId": "c9f033a7-3ea9-4458-91a2-27ecd752f11e",
        "colab": {}
      },
      "cell_type": "code",
      "source": [
        "print(errors_nf.shape)\n",
        "print(errors_f.shape)"
      ],
      "execution_count": 0,
      "outputs": [
        {
          "output_type": "stream",
          "text": [
            "(15942,)\n",
            "(385,)\n"
          ],
          "name": "stdout"
        }
      ]
    },
    {
      "metadata": {
        "id": "-1EHP3UACysB",
        "colab_type": "code",
        "outputId": "40b5a9a6-82be-4231-8f14-a4cfe9c1a6af",
        "colab": {}
      },
      "cell_type": "code",
      "source": [
        "print(predictions_nf.shape)\n",
        "print(predictions_f.shape)"
      ],
      "execution_count": 0,
      "outputs": [
        {
          "output_type": "stream",
          "text": [
            "(15942, 29)\n",
            "(385, 29)\n"
          ],
          "name": "stdout"
        }
      ]
    },
    {
      "metadata": {
        "id": "F82stvcdCysJ",
        "colab_type": "code",
        "colab": {}
      },
      "cell_type": "code",
      "source": [
        "test_pred = autoencoder.predict(X_test[:,:29])\n",
        "test_recon  = (((test_pred-X_test)**2).mean(-1))\n",
        "\n",
        "train_pred = autoencoder.predict(X_train_NF[:,:29])\n",
        "mean_recon = (((train_pred - X_train_NF)**2).mean(-1).mean())\n",
        "\n",
        "from sklearn.metrics import precision_score,recall_score,f1_score,confusion_matrix\n",
        "\n",
        "scores_f1 = []\n",
        "thres = []\n",
        "\n",
        "th = 0\n",
        "for i in range(100):\n",
        "    th+=0.1\n",
        "    fraud = (test_recon>mean_recon+th)\n",
        "    scores_f1.append(f1_score(y_test,fraud))\n",
        "    thres.append(th+mean_recon)\n",
        "    "
      ],
      "execution_count": 0,
      "outputs": []
    },
    {
      "metadata": {
        "id": "SCSt5ZXKCysN",
        "colab_type": "code",
        "outputId": "d3def512-e02e-46b2-eada-983d6a639e84",
        "colab": {}
      },
      "cell_type": "code",
      "source": [
        "plt.plot(thres, scores_f1)\n",
        "\n",
        "print(thres[np.array(scores_f1).argmax()])\n",
        "\n",
        "fraud = (test_recon>thres[np.array(scores_f1).argmax()])\n",
        "\n",
        "confusion_matrix(y_test, fraud)"
      ],
      "execution_count": 0,
      "outputs": [
        {
          "output_type": "stream",
          "text": [
            "3.02870254362\n"
          ],
          "name": "stdout"
        },
        {
          "output_type": "execute_result",
          "data": {
            "text/plain": [
              "array([[15883,    59],\n",
              "       [   80,   305]], dtype=int64)"
            ]
          },
          "metadata": {
            "tags": []
          },
          "execution_count": 64
        },
        {
          "output_type": "display_data",
          "data": {
            "image/png": "[encoded data removed]",
            "text/plain": [
              "<matplotlib.figure.Figure at 0x2605f412588>"
            ]
          },
          "metadata": {
            "tags": []
          }
        }
      ]
    }
  ]
}